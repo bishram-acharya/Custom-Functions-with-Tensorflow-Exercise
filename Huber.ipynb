{
 "cells": [
  {
   "cell_type": "code",
   "execution_count": 1,
   "id": "e8053294",
   "metadata": {},
   "outputs": [],
   "source": [
    "def huber_loss(y_true,y_preds):\n",
    "    threshold =1\n",
    "    error=y_true-y_preds\n",
    "    is_small_error= tf.abs(error)<=threshold\n",
    "    small_error_loss= tf.square(error)/2\n",
    "    big_error_loss = threshold*(tf.abs(error)-(0.5*threshold))\n",
    "    return tf.where(is_small_error, small_error_loss, big_error_loss)"
   ]
  },
  {
   "cell_type": "code",
   "execution_count": null,
   "id": "8566230e",
   "metadata": {},
   "outputs": [],
   "source": []
  }
 ],
 "metadata": {
  "kernelspec": {
   "display_name": "Python 3 (ipykernel)",
   "language": "python",
   "name": "python3"
  },
  "language_info": {
   "codemirror_mode": {
    "name": "ipython",
    "version": 3
   },
   "file_extension": ".py",
   "mimetype": "text/x-python",
   "name": "python",
   "nbconvert_exporter": "python",
   "pygments_lexer": "ipython3",
   "version": "3.9.12"
  }
 },
 "nbformat": 4,
 "nbformat_minor": 5
}
